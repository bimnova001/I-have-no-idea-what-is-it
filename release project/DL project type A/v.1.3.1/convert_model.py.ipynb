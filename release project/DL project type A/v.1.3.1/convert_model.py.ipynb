{
 "cells": [
  {
   "cell_type": "code",
   "execution_count": 1,
   "metadata": {},
   "outputs": [],
   "source": [
    "import numpy as np\n",
    "\n",
    "# อ่านไฟล์ .tflite\n",
    "with open('model.tflite', 'rb') as f:\n",
    "    model_data = f.read()\n",
    "\n",
    "# แปลงข้อมูลเป็น array ของ unsigned char\n",
    "model_array = ', '.join(f'0x{byte:02x}' for byte in model_data)\n",
    "\n",
    "# สร้างไฟล์ model_data.h\n",
    "with open('model_data.h', 'w') as f:\n",
    "    f.write(f'unsigned char g_model[] = {{{model_array}}};\\n')\n",
    "    f.write(f'unsigned int g_model_len = {len(model_data)};\\n')"
   ]
  }
 ],
 "metadata": {
  "kernelspec": {
   "display_name": "Python 3",
   "language": "python",
   "name": "python3"
  },
  "language_info": {
   "codemirror_mode": {
    "name": "ipython",
    "version": 3
   },
   "file_extension": ".py",
   "mimetype": "text/x-python",
   "name": "python",
   "nbconvert_exporter": "python",
   "pygments_lexer": "ipython3",
   "version": "3.12.5"
  }
 },
 "nbformat": 4,
 "nbformat_minor": 2
}
