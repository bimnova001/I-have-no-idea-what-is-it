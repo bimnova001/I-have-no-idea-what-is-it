{
 "cells": [
  {
   "cell_type": "code",
   "execution_count": 1,
   "metadata": {},
   "outputs": [
    {
     "name": "stderr",
     "output_type": "stream",
     "text": [
      "WARNING:absl:Compiled the loaded model, but the compiled metrics have yet to be built. `model.compile_metrics` will be empty until you train or evaluate the model.\n"
     ]
    },
    {
     "name": "stdout",
     "output_type": "stream",
     "text": [
      "\u001b[1m1/1\u001b[0m \u001b[32m━━━━━━━━━━━━━━━━━━━━\u001b[0m\u001b[37m\u001b[0m \u001b[1m0s\u001b[0m 49ms/step\n",
      "ความน่าจะเป็นของการฝนตก: 95.57%\n"
     ]
    }
   ],
   "source": [
    "import numpy as np\n",
    "from tensorflow.keras.models import load_model\n",
    "\n",
    "# โหลดโมเดลที่ฝึกเสร็จแล้ว\n",
    "model = load_model('rain_prediction_model.h5')\n",
    "\n",
    "# สร้างข้อมูลที่ใช้ในการทำนาย\n",
    "# ตัวอย่างข้อมูล: [ความชื้น, ความเร็วลม, ปริมาณฝน, วันฝนตก]\n",
    "# ปรับค่าให้เหมาะสมกับข้อมูลที่ใช้ฝึก\n",
    "input_data = np.array([[75, 2.5, 5.0, 0]])\n",
    "\n",
    "# ทำการทำนาย\n",
    "prediction = model.predict(input_data)\n",
    "\n",
    "# แปลงผลลัพธ์ให้เป็นเปอร์เซ็นต์\n",
    "rain_probability = prediction[0][0] * 100\n",
    "\n",
    "# แสดงผลลัพธ์\n",
    "print(f\"ความน่าจะเป็นของการฝนตก: {rain_probability:.2f}%\")\n"
   ]
  }
 ],
 "metadata": {
  "kernelspec": {
   "display_name": "Python 3",
   "language": "python",
   "name": "python3"
  },
  "language_info": {
   "codemirror_mode": {
    "name": "ipython",
    "version": 3
   },
   "file_extension": ".py",
   "mimetype": "text/x-python",
   "name": "python",
   "nbconvert_exporter": "python",
   "pygments_lexer": "ipython3",
   "version": "3.12.5"
  }
 },
 "nbformat": 4,
 "nbformat_minor": 2
}
