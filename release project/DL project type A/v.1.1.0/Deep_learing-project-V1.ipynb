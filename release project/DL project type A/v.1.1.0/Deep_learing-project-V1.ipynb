{
 "cells": [
  {
   "cell_type": "code",
   "execution_count": 1,
   "metadata": {},
   "outputs": [],
   "source": [
    "import numpy as np\n",
    "import pandas as pd\n",
    "from tensorflow.keras.models import Sequential\n",
    "from tensorflow.keras.layers import Dense\n",
    "from tensorflow.keras.optimizers import Adam\n",
    "from sklearn.model_selection import train_test_split\n",
    "from sklearn.preprocessing import MinMaxScaler\n",
    "from tensorflow.keras.callbacks import ReduceLROnPlateau\n",
    "from tensorflow.keras.callbacks import EarlyStopping\n",
    "from tensorflow.keras.layers import Dropout, BatchNormalization\n",
    "from sklearn.model_selection import RandomizedSearchCV\n",
    "from scikeras.wrappers import KerasClassifier"
   ]
  },
  {
   "cell_type": "code",
   "execution_count": 3,
   "metadata": {},
   "outputs": [
    {
     "name": "stderr",
     "output_type": "stream",
     "text": [
      "c:\\Users\\hoker\\AppData\\Local\\Programs\\Python\\Python312\\Lib\\site-packages\\keras\\src\\layers\\core\\dense.py:87: UserWarning: Do not pass an `input_shape`/`input_dim` argument to a layer. When using Sequential models, prefer using an `Input(shape)` object as the first layer in the model instead.\n",
      "  super().__init__(activity_regularizer=activity_regularizer, **kwargs)\n"
     ]
    }
   ],
   "source": [
    "data = pd.read_csv('weatherHistory.csv')\n",
    "\n",
    "data['Date'] = pd.to_datetime(data['Formatted Date'], utc=True, errors='coerce')\n",
    "\n",
    "\n",
    "data = data.dropna(subset=['Date'])\n",
    "\n",
    "\n",
    "data['Day'] = data['Date'].dt.day\n",
    "data['Month'] = data['Date'].dt.month\n",
    "data['Year'] = data['Date'].dt.year\n",
    "\n",
    "\n",
    "data['Rain'] = np.random.randint(0, 2, size=len(data))\n",
    "\n",
    "\n",
    "X = data[['Temperature (C)', 'Humidity', 'Wind Speed (km/h)', 'Pressure (millibars)']]\n",
    "y = data['Rain']\n",
    "\n",
    "\n",
    "scaler = MinMaxScaler()\n",
    "X_scaled = scaler.fit_transform(X)\n",
    "\n",
    "\n",
    "X_train, X_test, y_train, y_test = train_test_split(X_scaled, y, test_size=0.2, shuffle=False)\n",
    "\n",
    "model = Sequential([\n",
    "    Dense(64, activation='relu', input_shape=(X_train.shape[1],)),\n",
    "    Dense(64, activation='relu'),\n",
    "    Dense(1, activation='sigmoid')  \n",
    "])\n",
    "reduce_lr = ReduceLROnPlateau(monitor='val_loss', factor=0.2, patience=5, min_lr=0.0001)\n",
    "optimizer = Adam(learning_rate=0.0001, clipvalue=1.0)\n",
    "early_stopping = EarlyStopping(monitor='val_loss', patience=10, restore_best_weights=True)\n",
    "model.compile(optimizer=optimizer, loss='binary_crossentropy', metrics=['accuracy'])\n"
   ]
  },
  {
   "cell_type": "code",
   "execution_count": 4,
   "metadata": {},
   "outputs": [
    {
     "name": "stdout",
     "output_type": "stream",
     "text": [
      "ตัวอย่างวันที่ 06/09/2024 ใส่ตามที่ขึ้นไม่ใช่ใส่หมดทีเดียว\n",
      "Training iteration 1/3\n"
     ]
    },
    {
     "name": "stderr",
     "output_type": "stream",
     "text": [
      "WARNING:absl:You are saving your model as an HDF5 file via `model.save()` or `keras.saving.save_model(model)`. This file format is considered legacy. We recommend using instead the native Keras format, e.g. `model.save('my_model.keras')` or `keras.saving.save_model(model, 'my_model.keras')`. \n"
     ]
    },
    {
     "name": "stdout",
     "output_type": "stream",
     "text": [
      "\u001b[1m1/1\u001b[0m \u001b[32m━━━━━━━━━━━━━━━━━━━━\u001b[0m\u001b[37m\u001b[0m \u001b[1m0s\u001b[0m 44ms/step\n"
     ]
    },
    {
     "name": "stderr",
     "output_type": "stream",
     "text": [
      "c:\\Users\\hoker\\AppData\\Local\\Programs\\Python\\Python312\\Lib\\site-packages\\sklearn\\base.py:493: UserWarning: X does not have valid feature names, but MinMaxScaler was fitted with feature names\n",
      "  warnings.warn(\n"
     ]
    },
    {
     "name": "stdout",
     "output_type": "stream",
     "text": [
      "Training iteration 2/3\n"
     ]
    },
    {
     "name": "stderr",
     "output_type": "stream",
     "text": [
      "WARNING:absl:You are saving your model as an HDF5 file via `model.save()` or `keras.saving.save_model(model)`. This file format is considered legacy. We recommend using instead the native Keras format, e.g. `model.save('my_model.keras')` or `keras.saving.save_model(model, 'my_model.keras')`. \n"
     ]
    },
    {
     "name": "stdout",
     "output_type": "stream",
     "text": [
      "\u001b[1m1/1\u001b[0m \u001b[32m━━━━━━━━━━━━━━━━━━━━\u001b[0m\u001b[37m\u001b[0m \u001b[1m0s\u001b[0m 17ms/step"
     ]
    },
    {
     "name": "stderr",
     "output_type": "stream",
     "text": [
      "c:\\Users\\hoker\\AppData\\Local\\Programs\\Python\\Python312\\Lib\\site-packages\\sklearn\\base.py:493: UserWarning: X does not have valid feature names, but MinMaxScaler was fitted with feature names\n",
      "  warnings.warn(\n"
     ]
    },
    {
     "name": "stdout",
     "output_type": "stream",
     "text": [
      "\u001b[1m1/1\u001b[0m \u001b[32m━━━━━━━━━━━━━━━━━━━━\u001b[0m\u001b[37m\u001b[0m \u001b[1m0s\u001b[0m 18ms/step\n",
      "Training iteration 3/3\n"
     ]
    },
    {
     "name": "stderr",
     "output_type": "stream",
     "text": [
      "WARNING:absl:You are saving your model as an HDF5 file via `model.save()` or `keras.saving.save_model(model)`. This file format is considered legacy. We recommend using instead the native Keras format, e.g. `model.save('my_model.keras')` or `keras.saving.save_model(model, 'my_model.keras')`. \n"
     ]
    },
    {
     "name": "stdout",
     "output_type": "stream",
     "text": [
      "\u001b[1m1/1\u001b[0m \u001b[32m━━━━━━━━━━━━━━━━━━━━\u001b[0m\u001b[37m\u001b[0m \u001b[1m0s\u001b[0m 20ms/step\n"
     ]
    },
    {
     "name": "stderr",
     "output_type": "stream",
     "text": [
      "c:\\Users\\hoker\\AppData\\Local\\Programs\\Python\\Python312\\Lib\\site-packages\\sklearn\\base.py:493: UserWarning: X does not have valid feature names, but MinMaxScaler was fitted with feature names\n",
      "  warnings.warn(\n",
      "c:\\Users\\hoker\\AppData\\Local\\Programs\\Python\\Python312\\Lib\\site-packages\\sklearn\\base.py:493: UserWarning: X does not have valid feature names, but MinMaxScaler was fitted with feature names\n",
      "  warnings.warn(\n"
     ]
    },
    {
     "name": "stdout",
     "output_type": "stream",
     "text": [
      "----------------------------------------------------------------\n",
      "ค่าเฉลี่ยความน่าจะเป็นในการเกิดฝนหลังจาก 3 รอบ: 51.02%\n",
      "================================================================\n",
      "\u001b[1m1/1\u001b[0m \u001b[32m━━━━━━━━━━━━━━━━━━━━\u001b[0m\u001b[37m\u001b[0m \u001b[1m0s\u001b[0m 21ms/step\n",
      "===========================OUTPUT===============================\n",
      "สำหรับวันที่ 13/9/2024: Rain is likely (ความน่าจะเป็น: 51.15%)\n",
      "================================================================\n"
     ]
    }
   ],
   "source": [
    "def predict_rain(model, scaler, input_data):\n",
    "    if len(input_data) == 3:\n",
    "        last_weather_data = X.iloc[-1][['Temperature (C)', 'Humidity', 'Wind Speed (km/h)', 'Pressure (millibars)']].values\n",
    "        input_data = np.concatenate([last_weather_data])\n",
    "\n",
    "    # Normalize ข้อมูล\n",
    "    input_data_scaled = scaler.transform([input_data])\n",
    "\n",
    "    # พยากรณ์ด้วยโมเดล\n",
    "    predict = model.predict(input_data_scaled)\n",
    "    probability = predict[0][0] * 100  # Convert to percentage\n",
    "    \n",
    "    # Return ผลลัพธ์\n",
    "    if probability > 50:\n",
    "        return probability, \"Rain is likely\"\n",
    "    else:\n",
    "        return probability, \"No Rain expected\"\n",
    "\n",
    "print(\"ตัวอย่างวันที่ 06/09/2024 ใส่ตามที่ขึ้นไม่ใช่ใส่หมดทีเดียว\")\n",
    "iD = int(input(\"Day: \"))\n",
    "iM = int(input(\"Month: \"))\n",
    "iY = int(input(\"Year: \"))\n",
    "roun = int(input(\"Number of training epochs: \"))\n",
    "batch_siz = int(input(\"Batch size: \"))\n",
    "train_round = int(input(\"ใส่รอบในการ train ซํ้าเพื่อหาค่าเฉลี่ย แนะนำคือ 3 รอบ ทั่งนี่ หากไม่ต้องการให้ใส่ 1\"))\n",
    "train_iterations = train_round  # กำหนดจำนวนรอบการ train\n",
    "\n",
    "# เก็บค่าเฉลี่ย\n",
    "rain_probabilities = []\n",
    "\n",
    "for i in range(train_iterations):\n",
    "    print(f\"Training iteration {i+1}/{train_iterations}\")\n",
    "    \n",
    "    model.fit(X_train, y_train, epochs=roun, batch_size=batch_siz, verbose=0)\n",
    "\n",
    "    # Train เสร็จบันทึก model\n",
    "    model.save(\"model.h5\")\n",
    "\n",
    "    # พยากรณ์ด้วยข้อมูลวันสุดท้าย\n",
    "    X_last_day = X.iloc[-1].values\n",
    "    probability_last_day, _ = predict_rain(model, scaler, X_last_day[:3])\n",
    "    \n",
    "    # เพิ่มค่า rain_probabilities\n",
    "    rain_probabilities.append(probability_last_day)\n",
    "\n",
    "\n",
    "average_probability = sum(rain_probabilities) / len(rain_probabilities)\n",
    "\n",
    "print(\"----------------------------------------------------------------\")\n",
    "print(f\"ค่าเฉลี่ยความน่าจะเป็นในการเกิดฝนหลังจาก {train_iterations} รอบ: {average_probability:.2f}%\")\n",
    "print(\"================================================================\")\n",
    "\n",
    "\n",
    "result_custom_date = predict_rain(model, scaler, np.array([iD, iM, iY]))\n",
    "print(\"===========================OUTPUT===============================\")\n",
    "print(f\"สำหรับวันที่ {iD}/{iM}/{iY}: {result_custom_date[1]} (ความน่าจะเป็น: {result_custom_date[0]:.2f}%)\")\n",
    "print(\"================================================================\")\n"
   ]
  }
 ],
 "metadata": {
  "kernelspec": {
   "display_name": "Python 3",
   "language": "python",
   "name": "python3"
  },
  "language_info": {
   "codemirror_mode": {
    "name": "ipython",
    "version": 3
   },
   "file_extension": ".py",
   "mimetype": "text/x-python",
   "name": "python",
   "nbconvert_exporter": "python",
   "pygments_lexer": "ipython3",
   "version": "3.12.5"
  }
 },
 "nbformat": 4,
 "nbformat_minor": 2
}
