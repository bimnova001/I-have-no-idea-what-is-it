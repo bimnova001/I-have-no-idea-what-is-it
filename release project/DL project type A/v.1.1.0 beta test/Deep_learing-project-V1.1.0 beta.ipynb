{
 "cells": [
  {
   "cell_type": "code",
   "execution_count": null,
   "metadata": {},
   "outputs": [],
   "source": [
    "import numpy as np\n",
    "import pandas as pd\n",
    "from tensorflow.keras.models import Sequential\n",
    "from tensorflow.keras.layers import Dense\n",
    "from tensorflow.keras.optimizers import Adam\n",
    "from sklearn.model_selection import train_test_split\n",
    "from sklearn.preprocessing import MinMaxScaler\n",
    "from xgboost import XGBClassifier\n",
    "from neuralprophet import NeuralProphet\n",
    "from sklearn.preprocessing import LabelEncoder\n",
    "\n",
    "def predict_rain(model, scaler, X_last_day):\n",
    "    \n",
    "    X_last_day_scaled = scaler.transform([X_last_day])\n",
    "    \n",
    "    \n",
    "    predict = model.predict(X_last_day_scaled)\n",
    "    probability = predict[0][0] * 100  \n",
    "    \n",
    "    \n",
    "    if probability > 50:\n",
    "        return f\"Predicted Rain Probability: {probability:.2f}%, Rain is likely\"\n",
    "    else:\n",
    "        return f\"Predicted Rain Probability: {probability:.2f}%, No Rain expected\"\n",
    "\n",
    "data = pd.read_csv('seattle-weather.csv')\n",
    "data.shape\n",
    "\n",
    "\n",
    "X = data[[\"precipitation\", \"temp_max\", \"temp_min\", \"wind\"]]\n",
    "y = data.weather\n",
    "\n",
    "\n",
    "scaler = MinMaxScaler()\n",
    "X_scaled = scaler.fit_transform(X)\n",
    "\n",
    "\n",
    "X_train, X_test, y_train, y_test = train_test_split(X_scaled, y, test_size=0.2, shuffle=False)\n",
    "\n",
    "model = Sequential([\n",
    "    Dense(64, activation='relu', input_shape=(X_train.shape[1],)),\n",
    "    Dense(64, activation='relu'),\n",
    "    Dense(1, activation='sigmoid')  \n",
    "])\n",
    "\n",
    "optimizer = Adam(learning_rate=0.001, clipvalue=1.0)\n",
    "model.compile(optimizer=optimizer, loss='binary_crossentropy', metrics=['accuracy'])\n",
    "\n",
    "print(\"ควร กำหนดค่า ไม่น้อยไป หรือ มากไป\")\n",
    "roun = int(input(\"Number of training epochs: \"))\n",
    "batch_siz = int(input(\"Batch size: \"))\n",
    "print(\"Training model, please wait...\")\n",
    "model.fit(X_train, y_train, epochs=roun, batch_size=batch_siz, verbose=0)\n",
    "\n",
    "# Save the model\n",
    "model.save(\"model.h5\")\n",
    "\n",
    "X_last_day = X.iloc[-1].values  \n",
    "print(\"----------------------------------------------------------------\")\n",
    "print(\"คำเตื่อน : Model ยังเป็น version แรก จีงยังไม่แม่นยำมากนัก\")\n",
    "print(\"================================================================\")\n",
    "print(predict_rain(model, scaler, X_last_day))\n",
    "print(\"===========================OUTPUT===============================\")\n"
   ]
  },
  {
   "cell_type": "code",
   "execution_count": 55,
   "metadata": {},
   "outputs": [],
   "source": [
    "#ไม่ต้องสนใจก็ได้ ตรงนี่ มันคือ การปิดการแจ้งเตือนของ python lib\n",
    "import warnings\n",
    "warnings.filterwarnings(\"ignore\", category=UserWarning)\n"
   ]
  },
  {
   "cell_type": "code",
   "execution_count": 1,
   "metadata": {},
   "outputs": [],
   "source": []
  }
 ],
 "metadata": {
  "kernelspec": {
   "display_name": "Python 3",
   "language": "python",
   "name": "python3"
  },
  "language_info": {
   "codemirror_mode": {
    "name": "ipython",
    "version": 3
   },
   "file_extension": ".py",
   "mimetype": "text/x-python",
   "name": "python",
   "nbconvert_exporter": "python",
   "pygments_lexer": "ipython3",
   "version": "3.12.5"
  }
 },
 "nbformat": 4,
 "nbformat_minor": 2
}
