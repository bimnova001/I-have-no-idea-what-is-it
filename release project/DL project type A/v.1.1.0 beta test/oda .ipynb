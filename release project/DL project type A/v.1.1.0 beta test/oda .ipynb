{
 "cells": [
  {
   "cell_type": "code",
   "execution_count": 1,
   "metadata": {},
   "outputs": [
    {
     "name": "stdout",
     "output_type": "stream",
     "text": [
      "       _id  Initial_Year  Initial_Month  Forecast_Year  Foreast_Month  \\\n",
      "0      1.0          2021              1           2021              1   \n",
      "1      2.0          2021              1           2021              1   \n",
      "2      3.0          2021              1           2021              1   \n",
      "3      4.0          2021              1           2021              1   \n",
      "4      5.0          2021              1           2021              1   \n",
      "...    ...           ...            ...            ...            ...   \n",
      "15241  NaN          2024              9           2025              2   \n",
      "15242  NaN          2024              9           2025              2   \n",
      "15243  NaN          2024              9           2025              2   \n",
      "15244  NaN          2024              9           2025              2   \n",
      "15245  NaN          2024              9           2025              2   \n",
      "\n",
      "       Province_ID    Province_NameTH  Rainfall(mm)  Rainfall.mm.  \n",
      "0               10      กรุงเทพมหานคร      5.359580           NaN  \n",
      "1               11      จ.สมุทรปราการ      4.724574           NaN  \n",
      "2               12          จ.นนทบุรี      6.060826           NaN  \n",
      "3               13         จ.ปทุมธานี      6.709093           NaN  \n",
      "4               14  จ.พระนครศรีอยุธยา      2.295685           NaN  \n",
      "...            ...                ...           ...           ...  \n",
      "15241           92             จ.ตรัง           NaN     10.598276  \n",
      "15242           93           จ.พัทลุง           NaN     26.394265  \n",
      "15243           94          จ.ปัตตานี           NaN     34.509410  \n",
      "15244           95             จ.ยะลา           NaN     39.120329  \n",
      "15245           96         จ.นราธิวาส           NaN     48.087364  \n",
      "\n",
      "[15246 rows x 9 columns]\n"
     ]
    }
   ],
   "source": [
    "import pandas as pd\n",
    "\n",
    "# อ่านข้อมูลจากไฟล์ CSV เก่า\n",
    "data_2022 = pd.read_csv('data thai.csv')\n",
    "\n",
    "# อ่านข้อมูลจากไฟล์ CSV ใหม่\n",
    "data_2023 = pd.read_csv('data thai 2023.csv')\n",
    "data_2024 = pd.read_csv('data thai 2024.csv')\n",
    "# รวมข้อมูลจากทั้งสองไฟล์\n",
    "combined_data = pd.concat([data_2022, data_2023 , data_2024], ignore_index=True)\n",
    "\n",
    "# ตรวจสอบข้อมูลที่รวมกัน\n",
    "print(combined_data)\n",
    "\n",
    "# บันทึกข้อมูลที่รวมแล้วเป็นไฟล์ CSV ใหม่\n",
    "combined_data.to_csv('combined_data.csv', index=False)\n"
   ]
  }
 ],
 "metadata": {
  "kernelspec": {
   "display_name": "Python 3",
   "language": "python",
   "name": "python3"
  },
  "language_info": {
   "codemirror_mode": {
    "name": "ipython",
    "version": 3
   },
   "file_extension": ".py",
   "mimetype": "text/x-python",
   "name": "python",
   "nbconvert_exporter": "python",
   "pygments_lexer": "ipython3",
   "version": "3.12.5"
  }
 },
 "nbformat": 4,
 "nbformat_minor": 2
}
