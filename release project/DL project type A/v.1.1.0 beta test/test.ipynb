{
 "cells": [
  {
   "cell_type": "code",
   "execution_count": 9,
   "metadata": {},
   "outputs": [],
   "source": [
    "import tensorflow \n",
    "import keras\n",
    "import pandas as pd\n",
    "import numpy as np\n",
    "from sklearn.preprocessing import MinMaxScaler\n",
    "from sklearn.model_selection import train_test_split\n",
    "from tensorflow.keras.models import Sequential\n",
    "from tensorflow.keras.layers import Dense\n",
    "from tensorflow.keras.optimizers import Adam\n",
    "from tensorflow.keras.callbacks import EarlyStopping, ReduceLROnPlateau\n"
   ]
  },
  {
   "cell_type": "code",
   "execution_count": 19,
   "metadata": {},
   "outputs": [
    {
     "data": {
      "text/html": [
       "<div>\n",
       "<style scoped>\n",
       "    .dataframe tbody tr th:only-of-type {\n",
       "        vertical-align: middle;\n",
       "    }\n",
       "\n",
       "    .dataframe tbody tr th {\n",
       "        vertical-align: top;\n",
       "    }\n",
       "\n",
       "    .dataframe thead th {\n",
       "        text-align: right;\n",
       "    }\n",
       "</style>\n",
       "<table border=\"1\" class=\"dataframe\">\n",
       "  <thead>\n",
       "    <tr style=\"text-align: right;\">\n",
       "      <th></th>\n",
       "      <th>_id</th>\n",
       "      <th>Initial_Year</th>\n",
       "      <th>Initial_Month</th>\n",
       "      <th>Forecast_Year</th>\n",
       "      <th>Foreast_Month</th>\n",
       "      <th>Province_ID</th>\n",
       "      <th>Province_NameTH</th>\n",
       "      <th>Rainfall(mm)</th>\n",
       "      <th>Rainfall.mm.</th>\n",
       "    </tr>\n",
       "  </thead>\n",
       "  <tbody>\n",
       "    <tr>\n",
       "      <th>0</th>\n",
       "      <td>1.0</td>\n",
       "      <td>2021</td>\n",
       "      <td>1</td>\n",
       "      <td>2021</td>\n",
       "      <td>1</td>\n",
       "      <td>10</td>\n",
       "      <td>กรุงเทพมหานคร</td>\n",
       "      <td>5.359580</td>\n",
       "      <td>NaN</td>\n",
       "    </tr>\n",
       "    <tr>\n",
       "      <th>1</th>\n",
       "      <td>2.0</td>\n",
       "      <td>2021</td>\n",
       "      <td>1</td>\n",
       "      <td>2021</td>\n",
       "      <td>1</td>\n",
       "      <td>11</td>\n",
       "      <td>จ.สมุทรปราการ</td>\n",
       "      <td>4.724574</td>\n",
       "      <td>NaN</td>\n",
       "    </tr>\n",
       "    <tr>\n",
       "      <th>2</th>\n",
       "      <td>3.0</td>\n",
       "      <td>2021</td>\n",
       "      <td>1</td>\n",
       "      <td>2021</td>\n",
       "      <td>1</td>\n",
       "      <td>12</td>\n",
       "      <td>จ.นนทบุรี</td>\n",
       "      <td>6.060826</td>\n",
       "      <td>NaN</td>\n",
       "    </tr>\n",
       "    <tr>\n",
       "      <th>3</th>\n",
       "      <td>4.0</td>\n",
       "      <td>2021</td>\n",
       "      <td>1</td>\n",
       "      <td>2021</td>\n",
       "      <td>1</td>\n",
       "      <td>13</td>\n",
       "      <td>จ.ปทุมธานี</td>\n",
       "      <td>6.709093</td>\n",
       "      <td>NaN</td>\n",
       "    </tr>\n",
       "    <tr>\n",
       "      <th>4</th>\n",
       "      <td>5.0</td>\n",
       "      <td>2021</td>\n",
       "      <td>1</td>\n",
       "      <td>2021</td>\n",
       "      <td>1</td>\n",
       "      <td>14</td>\n",
       "      <td>จ.พระนครศรีอยุธยา</td>\n",
       "      <td>2.295685</td>\n",
       "      <td>NaN</td>\n",
       "    </tr>\n",
       "  </tbody>\n",
       "</table>\n",
       "</div>"
      ],
      "text/plain": [
       "   _id  Initial_Year  Initial_Month  Forecast_Year  Foreast_Month  \\\n",
       "0  1.0          2021              1           2021              1   \n",
       "1  2.0          2021              1           2021              1   \n",
       "2  3.0          2021              1           2021              1   \n",
       "3  4.0          2021              1           2021              1   \n",
       "4  5.0          2021              1           2021              1   \n",
       "\n",
       "   Province_ID    Province_NameTH  Rainfall(mm)  Rainfall.mm.  \n",
       "0           10      กรุงเทพมหานคร      5.359580           NaN  \n",
       "1           11      จ.สมุทรปราการ      4.724574           NaN  \n",
       "2           12          จ.นนทบุรี      6.060826           NaN  \n",
       "3           13         จ.ปทุมธานี      6.709093           NaN  \n",
       "4           14  จ.พระนครศรีอยุธยา      2.295685           NaN  "
      ]
     },
     "execution_count": 19,
     "metadata": {},
     "output_type": "execute_result"
    }
   ],
   "source": [
    "data = pd.read_csv('combined_data.csv')\n",
    "\n",
    "data.head()"
   ]
  },
  {
   "cell_type": "code",
   "execution_count": 12,
   "metadata": {},
   "outputs": [],
   "source": [
    "# Features and Target\n",
    "X = data[['Initial_Year', 'Initial_Month', 'Forecast_Year', 'Foreast_Month', 'Province_ID']]\n",
    "y = data['Rainfall(mm)']\n",
    "\n",
    "# Scale the feature data\n",
    "scaler = MinMaxScaler()\n",
    "X_scaled = scaler.fit_transform(X)\n",
    "\n",
    "# Split data into training and testing sets\n",
    "X_train, X_test, y_train, y_test = train_test_split(X_scaled, y, test_size=0.2, shuffle=False)"
   ]
  },
  {
   "cell_type": "code",
   "execution_count": 13,
   "metadata": {},
   "outputs": [
    {
     "name": "stderr",
     "output_type": "stream",
     "text": [
      "c:\\Users\\hoker\\AppData\\Local\\Programs\\Python\\Python312\\Lib\\site-packages\\keras\\src\\layers\\core\\dense.py:87: UserWarning: Do not pass an `input_shape`/`input_dim` argument to a layer. When using Sequential models, prefer using an `Input(shape)` object as the first layer in the model instead.\n",
      "  super().__init__(activity_regularizer=activity_regularizer, **kwargs)\n"
     ]
    }
   ],
   "source": [
    "# Define the model\n",
    "model = Sequential([\n",
    "    Dense(64, activation='relu', input_shape=(X_train.shape[1],)),\n",
    "    Dense(64, activation='relu'),\n",
    "    Dense(1)  # No sigmoid because it's a regression problem now\n",
    "])\n",
    "\n",
    "# Compile the model\n",
    "reduce_lr = ReduceLROnPlateau(monitor='val_loss', factor=0.2, patience=5, min_lr=0.0001)\n",
    "optimizer = Adam(learning_rate=0.0001, clipvalue=1.0)\n",
    "early_stopping = EarlyStopping(monitor='val_loss', patience=10, restore_best_weights=True)\n",
    "model.compile(optimizer=optimizer, loss='mean_squared_error', metrics=['mae'])"
   ]
  },
  {
   "cell_type": "code",
   "execution_count": 14,
   "metadata": {},
   "outputs": [
    {
     "name": "stdout",
     "output_type": "stream",
     "text": [
      "Training iteration 1/3\n"
     ]
    },
    {
     "name": "stderr",
     "output_type": "stream",
     "text": [
      "WARNING:absl:You are saving your model as an HDF5 file via `model.save()` or `keras.saving.save_model(model)`. This file format is considered legacy. We recommend using instead the native Keras format, e.g. `model.save('my_model.keras')` or `keras.saving.save_model(model, 'my_model.keras')`. \n"
     ]
    },
    {
     "name": "stdout",
     "output_type": "stream",
     "text": [
      "\u001b[1m1/1\u001b[0m \u001b[32m━━━━━━━━━━━━━━━━━━━━\u001b[0m\u001b[37m\u001b[0m \u001b[1m0s\u001b[0m 45ms/step\n",
      "Training iteration 2/3\n"
     ]
    },
    {
     "name": "stderr",
     "output_type": "stream",
     "text": [
      "WARNING:absl:You are saving your model as an HDF5 file via `model.save()` or `keras.saving.save_model(model)`. This file format is considered legacy. We recommend using instead the native Keras format, e.g. `model.save('my_model.keras')` or `keras.saving.save_model(model, 'my_model.keras')`. \n"
     ]
    },
    {
     "name": "stdout",
     "output_type": "stream",
     "text": [
      "\u001b[1m1/1\u001b[0m \u001b[32m━━━━━━━━━━━━━━━━━━━━\u001b[0m\u001b[37m\u001b[0m \u001b[1m0s\u001b[0m 17ms/step\n",
      "Training iteration 3/3\n"
     ]
    },
    {
     "name": "stderr",
     "output_type": "stream",
     "text": [
      "WARNING:absl:You are saving your model as an HDF5 file via `model.save()` or `keras.saving.save_model(model)`. This file format is considered legacy. We recommend using instead the native Keras format, e.g. `model.save('my_model.keras')` or `keras.saving.save_model(model, 'my_model.keras')`. \n"
     ]
    },
    {
     "name": "stdout",
     "output_type": "stream",
     "text": [
      "\u001b[1m1/1\u001b[0m \u001b[32m━━━━━━━━━━━━━━━━━━━━\u001b[0m\u001b[37m\u001b[0m \u001b[1m0s\u001b[0m 19ms/step\n",
      "Average predicted rainfall over 3 rounds: -15653.82 mm\n",
      "\u001b[1m1/1\u001b[0m \u001b[32m━━━━━━━━━━━━━━━━━━━━\u001b[0m\u001b[37m\u001b[0m \u001b[1m0s\u001b[0m 41ms/step\n",
      "Predicted rainfall for year 2024, month 9, province 10: -25.84 mm\n"
     ]
    },
    {
     "name": "stderr",
     "output_type": "stream",
     "text": [
      "c:\\Users\\hoker\\AppData\\Local\\Programs\\Python\\Python312\\Lib\\site-packages\\sklearn\\base.py:493: UserWarning: X does not have valid feature names, but MinMaxScaler was fitted with feature names\n",
      "  warnings.warn(\n"
     ]
    }
   ],
   "source": [
    "# Train model\n",
    "roun = int(input(\"Number of training epochs: \"))\n",
    "batch_siz = int(input(\"Batch size: \"))\n",
    "train_round = int(input(\"Number of training rounds for averaging: \"))\n",
    "\n",
    "# Track average rainfall predictions\n",
    "rainfall_predictions = []\n",
    "\n",
    "for i in range(train_round):\n",
    "    print(f\"Training iteration {i+1}/{train_round}\")\n",
    "    model.fit(X_train, y_train, epochs=roun, batch_size=batch_siz, verbose=0)\n",
    "    \n",
    "    # Save the model after each training iteration\n",
    "    model.save(f\"model_round_{i+1}.h5\")\n",
    "\n",
    "    # Predict for the last day in the dataset\n",
    "    X_last_day = X.iloc[-1].values\n",
    "    predicted_rainfall = model.predict(np.array([X_last_day]))[0][0]\n",
    "    \n",
    "    rainfall_predictions.append(predicted_rainfall)\n",
    "\n",
    "# Compute the average rainfall prediction\n",
    "average_rainfall = sum(rainfall_predictions) / len(rainfall_predictions)\n",
    "print(f\"Average predicted rainfall over {train_round} rounds: {average_rainfall:.2f} mm\")\n",
    "\n",
    "# Custom prediction\n",
    "iY = int(input(\"Enter the forecast year: \"))\n",
    "iM = int(input(\"Enter the forecast month: \"))\n",
    "province_id = int(input(\"Enter the province ID: \"))\n",
    "\n",
    "# Scale the custom input\n",
    "custom_input = np.array([[iY, iM, iY, iM, province_id]])\n",
    "custom_input_scaled = scaler.transform(custom_input)\n",
    "\n",
    "# Predict rainfall for custom input\n",
    "predicted_rainfall_custom = model.predict(custom_input_scaled)[0][0]\n",
    "print(f\"Predicted rainfall for year {iY}, month {iM}, province {province_id}: {predicted_rainfall_custom:.2f} mm\")"
   ]
  },
  {
   "cell_type": "markdown",
   "metadata": {},
   "source": []
  },
  {
   "cell_type": "code",
   "execution_count": 15,
   "metadata": {},
   "outputs": [
    {
     "ename": "AttributeError",
     "evalue": "module 'urllib' has no attribute 'urlopen'",
     "output_type": "error",
     "traceback": [
      "\u001b[1;31m---------------------------------------------------------------------------\u001b[0m",
      "\u001b[1;31mAttributeError\u001b[0m                            Traceback (most recent call last)",
      "Cell \u001b[1;32mIn[15], line 3\u001b[0m\n\u001b[0;32m      1\u001b[0m \u001b[38;5;28;01mimport\u001b[39;00m \u001b[38;5;21;01murllib\u001b[39;00m\n\u001b[0;32m      2\u001b[0m url \u001b[38;5;241m=\u001b[39m \u001b[38;5;124m'\u001b[39m\u001b[38;5;124mhttps://data.hii.or.th/sv/api/3/action/datastore_search?limit=5&resource_id=e45c665d-8389-4bf1-889b-37c42ca200ee&q=title:jones\u001b[39m\u001b[38;5;124m'\u001b[39m  \n\u001b[1;32m----> 3\u001b[0m fileobj \u001b[38;5;241m=\u001b[39m \u001b[43murllib\u001b[49m\u001b[38;5;241;43m.\u001b[39;49m\u001b[43murlopen\u001b[49m(url)\n\u001b[0;32m      4\u001b[0m \u001b[38;5;28mprint\u001b[39m(fileobj\u001b[38;5;241m.\u001b[39mread())\n",
      "\u001b[1;31mAttributeError\u001b[0m: module 'urllib' has no attribute 'urlopen'"
     ]
    }
   ],
   "source": [
    "import urllib\n",
    "url = 'https://data.hii.or.th/sv/api/3/action/datastore_search?limit=5&resource_id=e45c665d-8389-4bf1-889b-37c42ca200ee&q=title:jones'  \n",
    "fileobj = urllib.urlopen(url)\n",
    "print(fileobj.read())"
   ]
  },
  {
   "cell_type": "code",
   "execution_count": null,
   "metadata": {},
   "outputs": [],
   "source": [
    "data"
   ]
  },
  {
   "cell_type": "code",
   "execution_count": null,
   "metadata": {},
   "outputs": [],
   "source": []
  },
  {
   "cell_type": "code",
   "execution_count": null,
   "metadata": {},
   "outputs": [],
   "source": []
  },
  {
   "cell_type": "code",
   "execution_count": null,
   "metadata": {},
   "outputs": [],
   "source": [
    "import pandas as pd\n",
    "\n",
    "# โหลด dataset ของคุณ\n",
    "data = pd.read_csv('.csv')\n",
    "\n",
    "# ฟังก์ชันสำหรับคำนวณตาม ID\n",
    "def calculate_by_id(province_id):\n",
    "    # คัดกรองข้อมูลตาม ID ที่กรอก\n",
    "    filtered_data = data[data['Province_ID'] == province_id]\n",
    "    \n",
    "    if filtered_data.empty:\n",
    "        print(\"ไม่พบข้อมูลสำหรับ Province_ID ที่กรอก\")\n",
    "        return\n",
    "\n",
    "    # ตัวอย่างการคำนวณ (เปลี่ยนเป็นการคำนวณที่คุณต้องการ)\n",
    "    total_rainfall = filtered_data['Rainfall(mm)'].sum()\n",
    "    average_rainfall = filtered_data['Rainfall(mm)'].mean()\n",
    "\n",
    "    print(f\"สำหรับ Province_ID {province_id}:\")\n",
    "    print(f\"ปริมาณฝนรวม: {total_rainfall:.2f} มิลลิเมตร\")\n",
    "    print(f\"เฉลี่ยฝน: {average_rainfall:.2f} มิลลิเมตร\")\n",
    "\n",
    "# รับ input จากผู้ใช้\n",
    "province_id_input = int(input(\"กรุณากรอก Province_ID: \"))\n",
    "calculate_by_id(province_id_input)\n"
   ]
  }
 ],
 "metadata": {
  "kernelspec": {
   "display_name": "Python 3",
   "language": "python",
   "name": "python3"
  },
  "language_info": {
   "codemirror_mode": {
    "name": "ipython",
    "version": 3
   },
   "file_extension": ".py",
   "mimetype": "text/x-python",
   "name": "python",
   "nbconvert_exporter": "python",
   "pygments_lexer": "ipython3",
   "version": "3.12.5"
  }
 },
 "nbformat": 4,
 "nbformat_minor": 2
}
