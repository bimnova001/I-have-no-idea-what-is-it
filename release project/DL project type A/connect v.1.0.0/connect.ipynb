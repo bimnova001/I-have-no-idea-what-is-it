{
 "cells": [
  {
   "cell_type": "code",
   "execution_count": 9,
   "metadata": {},
   "outputs": [],
   "source": [
    "import pymysql\n",
    "import mysql.connector\n"
   ]
  },
  {
   "cell_type": "code",
   "execution_count": 14,
   "metadata": {},
   "outputs": [
    {
     "name": "stdout",
     "output_type": "stream",
     "text": [
      "1 record inserted.\n"
     ]
    }
   ],
   "source": [
    "#เพืม ข้อมูล\n",
    "\n",
    "mydb = mysql.connector.connect(\n",
    "  host=\"localhost\",\n",
    "  user=\"root\",\n",
    "  password=\"\",\n",
    "  db='rmutl'\n",
    ")\n",
    "\n",
    "mycursor = mydb.cursor()\n",
    "\n",
    "sql = \"INSERT INTO work (work_name, `Dec`) VALUES (%s, %s)\"\n",
    "data = (\"4\",\"4\")\n",
    "\n",
    "mycursor.execute(sql, data)\n",
    "\n",
    "mydb.commit()\n",
    "\n",
    "print(mycursor.rowcount, \"record inserted.\")\n"
   ]
  },
  {
   "cell_type": "code",
   "execution_count": 2,
   "metadata": {},
   "outputs": [
    {
     "name": "stdout",
     "output_type": "stream",
     "text": [
      "(25.0, 50.0, None, None, None, None, None)\n",
      "(25.0, 50.0, None, None, None, None, None)\n",
      "(25.0, 50.0, None, None, None, None, None)\n",
      "(25.0, 50.0, None, None, None, None, None)\n",
      "(25.0, 50.0, None, None, None, None, None)\n",
      "(25.0, 50.0, None, None, None, None, None)\n",
      "(25.0, 50.0, None, None, None, None, None)\n",
      "(25.0, 50.0, None, None, None, None, None)\n",
      "(25.0, 50.0, None, None, None, None, None)\n",
      "(25.0, 50.0, None, None, None, None, None)\n",
      "(25.0, 50.0, None, None, None, None, None)\n",
      "(25.0, 50.0, None, None, None, None, None)\n",
      "(25.0, 50.0, None, None, None, None, None)\n",
      "(25.0, 50.0, None, None, None, None, None)\n",
      "(25.0, 50.0, None, None, None, None, None)\n",
      "(25.0, 50.0, None, None, None, None, None)\n",
      "(25.0, 50.0, None, None, None, None, None)\n",
      "(25.0, 50.0, None, None, None, None, None)\n",
      "(25.0, 50.0, None, None, None, None, None)\n",
      "(25.0, 50.0, None, None, None, None, None)\n",
      "(25.0, 50.0, None, None, None, None, None)\n",
      "(25.0, 50.0, None, None, None, None, None)\n",
      "(25.0, 50.0, None, None, None, None, None)\n",
      "(25.0, 50.0, None, None, None, None, None)\n",
      "(25.0, 50.0, None, None, None, None, None)\n",
      "(25.0, 50.0, None, None, None, None, None)\n",
      "(25.0, 50.0, None, None, None, None, None)\n",
      "(25.0, 50.0, None, None, None, None, None)\n",
      "(25.0, 50.0, None, None, None, None, None)\n",
      "(25.0, 50.0, None, None, None, None, None)\n",
      "(25.0, 50.0, None, None, None, None, None)\n",
      "(25.0, 50.0, None, None, None, None, None)\n",
      "(25.0, 50.0, None, None, None, None, None)\n",
      "(25.0, 50.0, None, None, None, None, None)\n",
      "(25.0, 50.0, None, None, None, None, None)\n",
      "(25.0, 50.0, None, None, None, None, None)\n",
      "(25.0, 50.0, None, None, None, None, None)\n",
      "(25.0, 50.0, None, None, None, None, None)\n",
      "(25.0, 50.0, None, None, None, None, None)\n",
      "(25.0, 50.0, None, None, None, None, None)\n",
      "(25.0, 50.0, 75.0, None, None, None, None)\n",
      "(25.0, 50.0, 75.0, None, None, None, None)\n",
      "(25.0, 50.0, 75.0, None, None, None, None)\n"
     ]
    }
   ],
   "source": [
    "import mysql.connector\n",
    "\n",
    "# Connect to the MySQL server\n",
    "mydb = mysql.connector.connect(\n",
    "    host=\"localhost\",\n",
    "    user=\"root\",\n",
    "    password=\"\",\n",
    "    database=\"test_before_use\"\n",
    ")\n",
    "\n",
    "mycursor = mydb.cursor()\n",
    "\n",
    "# SQL query to select all rows from the 'work' table\n",
    "sql = \"SELECT * FROM ff\"\n",
    "\n",
    "# Execute the query\n",
    "mycursor.execute(sql)\n",
    "\n",
    "# Fetch all results from the executed query\n",
    "results = mycursor.fetchall()\n",
    "\n",
    "# Loop through the results and print them\n",
    "for row in results:\n",
    "    print(row)\n"
   ]
  }
 ],
 "metadata": {
  "kernelspec": {
   "display_name": "Python 3",
   "language": "python",
   "name": "python3"
  },
  "language_info": {
   "codemirror_mode": {
    "name": "ipython",
    "version": 3
   },
   "file_extension": ".py",
   "mimetype": "text/x-python",
   "name": "python",
   "nbconvert_exporter": "python",
   "pygments_lexer": "ipython3",
   "version": "3.12.5"
  }
 },
 "nbformat": 4,
 "nbformat_minor": 2
}
