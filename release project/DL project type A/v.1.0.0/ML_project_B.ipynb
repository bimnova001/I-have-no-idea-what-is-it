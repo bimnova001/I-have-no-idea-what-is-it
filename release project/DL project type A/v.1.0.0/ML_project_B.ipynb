{
 "cells": [
  {
   "cell_type": "code",
   "execution_count": null,
   "metadata": {},
   "outputs": [],
   "source": [
    "import pandas as pd\n",
    "import numpy as np\n",
    "from sklearn.model_selection import train_test_split\n",
    "from sklearn.ensemble import RandomForestClassifier\n",
    "from sklearn.metrics import classification_report, confusion_matrix\n",
    "\n",
    "# Load your dataset\n",
    "data = pd.read_csv('weatherHistory.csv')\n",
    "\n",
    "# Convert 'Formatted Date' to datetime\n",
    "data['Date'] = pd.to_datetime(data['Formatted Date'], errors='coerce')\n",
    "\n",
    "# Sort by date to ensure chronological order\n",
    "data = data.sort_values('Date')\n",
    "\n",
    "# Create a new column 'Rain Tomorrow' which is 1 if it rained the next day, else 0\n",
    "data['Rain Tomorrow'] = data['Precip Type'].shift(-1).apply(lambda x: 1 if x == 'rain' else 0)\n",
    "\n",
    "# Drop rows with missing target values\n",
    "data = data.dropna(subset=['Rain Tomorrow'])\n",
    "\n",
    "# Define features and target variable\n",
    "features = ['Temperature (C)', 'Humidity', 'Wind Speed (km/h)', 'Pressure (millibars)']\n",
    "X = data[features]\n",
    "y = data['Rain Tomorrow']\n",
    "\n",
    "# Split data into training and testing sets\n",
    "X_train, X_test, y_train, y_test = train_test_split(X, y, test_size=0.2, random_state=42)\n",
    "\n",
    "# Initialize and train the model\n",
    "model = RandomForestClassifier(n_estimators=100, random_state=42)\n",
    "model.fit(X_train, y_train)\n",
    "\n",
    "# Predict on the test set\n",
    "y_pred = model.predict(X_test)\n",
    "y_pred_prob = model.predict_proba(X_test)[:, 1]  # Probability of rain\n",
    "\n",
    "# Print evaluation metrics\n",
    "print(\"Classification Report:\")\n",
    "print(classification_report(y_test, y_pred))\n",
    "print(\"Confusion Matrix:\")\n",
    "print(confusion_matrix(y_test, y_pred))\n",
    "\n",
    "# Example of predicting for a new data point\n",
    "new_data = np.array([[20, 80, 10, 1010]])  # Example features: [Temperature, Humidity, Wind Speed, Pressure]\n",
    "predicted_prob = model.predict_proba(new_data)[0, 1] * 100\n",
    "rain_prediction = \"Rain\" if predicted_prob > 50 else \"No Rain\"\n",
    "print(f\"Predicted Rain Probability for the new data point: {predicted_prob:.2f}%\")\n",
    "print(\"-#-++++++++++++++++++++++++OUTPUT+++++++++++++++++++++++++++\")\n",
    "print(f\"Prediction: {rain_prediction}\")\n",
    "print(\"=====================================================================\")"
   ]
  }
 ],
 "metadata": {
  "kernelspec": {
   "display_name": "Python 3",
   "language": "python",
   "name": "python3"
  },
  "language_info": {
   "name": "python",
   "version": "3.12.5"
  }
 },
 "nbformat": 4,
 "nbformat_minor": 2
}
