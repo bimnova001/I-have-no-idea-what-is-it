{
 "cells": [
  {
   "cell_type": "code",
   "execution_count": null,
   "metadata": {},
   "outputs": [],
   "source": [
    "from keras.models import Sequential\n",
    "from keras.layers import LSTM, Dense\n",
    "import numpy as np\n",
    "\n",
    "# สร้างโมเดล LSTM\n",
    "model = Sequential()\n",
    "model.add(LSTM(50, return_sequences=True, input_shape=(n_steps, n_features)))\n",
    "model.add(LSTM(50))\n",
    "model.add(Dense(1))  # พยากรณ์ปริมาณฝน\n",
    "model.compile(optimizer='adam', loss='mse')\n",
    "\n",
    "# สร้างข้อมูลสำหรับการพยากรณ์ (เช่น ข้อมูลปริมาณฝนในอดีต)\n",
    "X_train = np.array([...])  # ข้อมูลลำดับเวลา\n",
    "y_train = np.array([...])  # ข้อมูลปริมาณฝน\n",
    "\n",
    "# ฝึกโมเดล\n",
    "model.fit(X_train, y_train, epochs=100, verbose=1)\n",
    "\n",
    "# ทำนายปริมาณฝนในอนาคต\n",
    "y_pred = model.predict(X_test)\n"
   ]
  }
 ],
 "metadata": {
  "language_info": {
   "name": "python"
  }
 },
 "nbformat": 4,
 "nbformat_minor": 2
}
