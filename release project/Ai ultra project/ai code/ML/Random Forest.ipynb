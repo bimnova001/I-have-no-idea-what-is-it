{
 "cells": [
  {
   "cell_type": "code",
   "execution_count": 1,
   "metadata": {},
   "outputs": [
    {
     "name": "stdout",
     "output_type": "stream",
     "text": [
      "ควรรดน้ำ: False\n"
     ]
    }
   ],
   "source": [
    "from sklearn.ensemble import RandomForestClassifier\n",
    "from sklearn.model_selection import train_test_split\n",
    "import numpy as np\n",
    "\n",
    "# สร้างข้อมูลการฝึก\n",
    "X = np.array([[25, 60, 12], [22, 55, 0], [30, 80, 5]])  # ข้อมูลเซ็นเซอร์: [อุณหภูมิ, ความชื้น, ปริมาณฝน]\n",
    "y = np.array([0, 1, 0])  # 0 = ไม่รดน้ำ, 1 = รดน้ำ\n",
    "\n",
    "# แบ่งข้อมูลการฝึกและทดสอบ\n",
    "X_train, X_test, y_train, y_test = train_test_split(X, y, test_size=0.2)\n",
    "\n",
    "# สร้างโมเดล Random Forest\n",
    "model = RandomForestClassifier()\n",
    "model.fit(X_train, y_train)\n",
    "\n",
    "# ทำนายการรดน้ำ\n",
    "prediction = model.predict([[28, 70, 0]])  # ทำนายจากค่าข้อมูลปัจจุบัน\n",
    "print(\"ควรรดน้ำ:\", bool(prediction[0]))\n"
   ]
  }
 ],
 "metadata": {
  "kernelspec": {
   "display_name": "Python 3",
   "language": "python",
   "name": "python3"
  },
  "language_info": {
   "codemirror_mode": {
    "name": "ipython",
    "version": 3
   },
   "file_extension": ".py",
   "mimetype": "text/x-python",
   "name": "python",
   "nbconvert_exporter": "python",
   "pygments_lexer": "ipython3",
   "version": "3.12.5"
  }
 },
 "nbformat": 4,
 "nbformat_minor": 2
}
