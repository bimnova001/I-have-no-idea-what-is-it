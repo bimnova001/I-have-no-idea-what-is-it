{
 "cells": [
  {
   "cell_type": "code",
   "execution_count": 1,
   "metadata": {},
   "outputs": [
    {
     "name": "stderr",
     "output_type": "stream",
     "text": [
      "WARNING:absl:Compiled the loaded model, but the compiled metrics have yet to be built. `model.compile_metrics` will be empty until you train or evaluate the model.\n"
     ]
    },
    {
     "name": "stdout",
     "output_type": "stream",
     "text": [
      "\u001b[1m1/1\u001b[0m \u001b[32m━━━━━━━━━━━━━━━━━━━━\u001b[0m\u001b[37m\u001b[0m \u001b[1m0s\u001b[0m 52ms/step\n",
      "Input: [32, 40, 0.0], Decision: ON\n",
      "\u001b[1m1/1\u001b[0m \u001b[32m━━━━━━━━━━━━━━━━━━━━\u001b[0m\u001b[37m\u001b[0m \u001b[1m0s\u001b[0m 18ms/step\n",
      "Input: [30, 55, 1.2], Decision: ON\n",
      "\u001b[1m1/1\u001b[0m \u001b[32m━━━━━━━━━━━━━━━━━━━━\u001b[0m\u001b[37m\u001b[0m \u001b[1m0s\u001b[0m 18ms/step\n",
      "Input: [28, 60, 0.0], Decision: ON\n",
      "\u001b[1m1/1\u001b[0m \u001b[32m━━━━━━━━━━━━━━━━━━━━\u001b[0m\u001b[37m\u001b[0m \u001b[1m0s\u001b[0m 20ms/step\n",
      "Input: [34, 30, 0.0], Decision: ON\n"
     ]
    }
   ],
   "source": [
    "import numpy as np\n",
    "import pandas as pd\n",
    "import tensorflow as tf\n",
    "\n",
    "# โหลดโมเดลที่ฝึกเสร็จแล้ว\n",
    "model = tf.keras.models.load_model('model.h5')\n",
    "\n",
    "# ฟังก์ชันสำหรับทดสอบโมเดล\n",
    "def test_model(input_data):\n",
    "    # ปรับข้อมูลให้เป็น numpy array\n",
    "    input_array = np.array(input_data).reshape(1, -1)  # แปลงเป็นรูปแบบ [1, n_features]\n",
    "    \n",
    "    # ทำการพยากรณ์\n",
    "    prediction = model.predict(input_array)\n",
    "    \n",
    "    # แปลงผลลัพธ์เป็น 0 หรือ 1\n",
    "    decision = \"ON\" if prediction[0] > 0.5 else \"OFF\"\n",
    "    return decision\n",
    "\n",
    "# ตัวอย่างข้อมูลทดสอบ\n",
    "test_data = [\n",
    "    [32, 40, 0.0],  # อุณหภูมิ, ความชื้น, ปริมาณน้ำฝน\n",
    "    [30, 55, 1.2],\n",
    "    [28, 60, 0.0],\n",
    "    [34, 30, 0.0],\n",
    "]\n",
    "\n",
    "# ทดสอบโมเดล\n",
    "for data in test_data:\n",
    "    result = test_model(data)\n",
    "    print(f\"Input: {data}, Decision: {result}\")\n"
   ]
  }
 ],
 "metadata": {
  "kernelspec": {
   "display_name": "Python 3",
   "language": "python",
   "name": "python3"
  },
  "language_info": {
   "codemirror_mode": {
    "name": "ipython",
    "version": 3
   },
   "file_extension": ".py",
   "mimetype": "text/x-python",
   "name": "python",
   "nbconvert_exporter": "python",
   "pygments_lexer": "ipython3",
   "version": "3.12.5"
  }
 },
 "nbformat": 4,
 "nbformat_minor": 2
}
