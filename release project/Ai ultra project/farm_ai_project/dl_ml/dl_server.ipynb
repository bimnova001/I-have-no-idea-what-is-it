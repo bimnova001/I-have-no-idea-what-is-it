{
 "cells": [
  {
   "cell_type": "code",
   "execution_count": null,
   "metadata": {},
   "outputs": [],
   "source": [
    "from flask import Flask, request, jsonify\n",
    "\n",
    "app = Flask(__name__)\n",
    "\n",
    "# สมมติว่าเรามีโมเดล DL/ML ที่โหลดไว้แล้ว (หรือใช้ฟังก์ชันง่ายๆ ในการตัดสินใจ)\n",
    "def predict(data):\n",
    "    temperature = data.get('temperature')\n",
    "    humidity = data.get('humidity')\n",
    "\n",
    "    # ตัดสินใจ (เช่น ควรรดน้ำหรือไม่)\n",
    "    if humidity < 40 and temperature > 30:\n",
    "        decision = \"ON\"\n",
    "    else:\n",
    "        decision = \"OFF\"\n",
    "    \n",
    "    return decision\n",
    "\n",
    "@app.route('/process-data', methods=['POST'])\n",
    "def process_data():\n",
    "    data = request.get_json()\n",
    "    decision = predict(data)  # เรียกโมเดล DL/ML\n",
    "    return jsonify({\"decision\": decision})\n",
    "\n",
    "if __name__ == \"__main__\":\n",
    "    app.run(debug=True, port=5001)  # โค้ด DL/ML ใช้ port 5001\n"
   ]
  }
 ],
 "metadata": {
  "language_info": {
   "name": "python"
  }
 },
 "nbformat": 4,
 "nbformat_minor": 2
}
