{
 "cells": [
  {
   "cell_type": "code",
   "execution_count": null,
   "metadata": {},
   "outputs": [],
   "source": [
    "from flask import Flask, request, jsonify\n",
    "\n",
    "app = Flask(__name__)\n",
    "\n",
    "@app.route('/ai-endpoint', methods=['POST'])\n",
    "def ai_decision():\n",
    "    data = request.get_json()\n",
    "\n",
    "    temperature = data['temperature']\n",
    "    humidity = data['humidity']\n",
    "\n",
    "    # AI/ML ตัดสินใจจากข้อมูลที่ได้รับ\n",
    "    if humidity < 40:\n",
    "        decision = \"ON\"   # คำสั่งให้เปิดปั๊มน้ำ\n",
    "    else:\n",
    "        decision = \"OFF\"  # คำสั่งให้ปิดปั๊มน้ำ\n",
    "\n",
    "    return jsonify({\"command\": decision})\n",
    "\n",
    "if __name__ == '__main__':\n",
    "    app.run(debug=True, host='0.0.0.0')\n"
   ]
  }
 ],
 "metadata": {
  "language_info": {
   "name": "python"
  }
 },
 "nbformat": 4,
 "nbformat_minor": 2
}
