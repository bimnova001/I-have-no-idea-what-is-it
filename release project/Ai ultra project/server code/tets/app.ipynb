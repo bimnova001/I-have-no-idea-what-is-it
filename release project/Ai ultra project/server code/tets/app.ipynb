{
 "cells": [
  {
   "cell_type": "code",
   "execution_count": null,
   "metadata": {},
   "outputs": [],
   "source": [
    "from flask import Flask, request, jsonify\n",
    "import requests\n",
    "\n",
    "app = Flask(__name__)\n",
    "\n",
    "DL_SERVER_URL = \"http://localhost:5001/process-data\"  # URL ที่ติดต่อกับโค้ด DL/ML\n",
    "\n",
    "@app.route('/send-data', methods=['POST'])\n",
    "def send_data():\n",
    "    data = request.get_json()\n",
    "\n",
    "    # ส่งข้อมูลไปยังโค้ด DL/ML ที่แยกไฟล์กันอยู่\n",
    "    response = requests.post(DL_SERVER_URL, json=data)\n",
    "    if response.status_code == 200:\n",
    "        return jsonify({\"message\": \"Data processed\", \"decision\": response.json()}), 200\n",
    "    else:\n",
    "        return jsonify({\"error\": \"Failed to contact DL/ML server\"}), 500\n",
    "\n",
    "if __name__ == \"__main__\":\n",
    "    app.run(debug=True, port=5000)  # เซิร์ฟเวอร์หลักใช้ port 5000\n"
   ]
  }
 ],
 "metadata": {
  "language_info": {
   "name": "python"
  }
 },
 "nbformat": 4,
 "nbformat_minor": 2
}
